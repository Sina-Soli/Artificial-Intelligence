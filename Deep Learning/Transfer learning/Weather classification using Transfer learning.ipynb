{
 "cells": [
  {
   "cell_type": "code",
   "execution_count": 1,
   "id": "ce38c61c",
   "metadata": {},
   "outputs": [],
   "source": [
    "import pandas as pd\n",
    "import matplotlib.pyplot as plt\n",
    "import numpy as np\n",
    "from keras.preprocessing.image import ImageDataGenerator\n",
    "from keras.applications import VGG19\n",
    "from keras import layers\n",
    "from keras import models\n",
    "from keras import optimizers\n",
    "import splitfolders\n",
    "import os"
   ]
  },
  {
   "attachments": {},
   "cell_type": "markdown",
   "id": "27871293",
   "metadata": {},
   "source": [
    "# Weather classification using Transfer learning"
   ]
  },
  {
   "attachments": {},
   "cell_type": "markdown",
   "id": "43778b55",
   "metadata": {},
   "source": [
    "# A"
   ]
  },
  {
   "cell_type": "code",
   "execution_count": 2,
   "id": "06226cd1",
   "metadata": {},
   "outputs": [
    {
     "name": "stderr",
     "output_type": "stream",
     "text": [
      "Copying files: 6862 files [01:47, 64.13 files/s] \n"
     ]
    }
   ],
   "source": [
    "splitfolders.ratio(\"dataset\", output=\"weather\", seed=42, ratio=(0.8, 0.1, 0.1),group_prefix=None)"
   ]
  },
  {
   "attachments": {},
   "cell_type": "markdown",
   "id": "1ddc13c4",
   "metadata": {},
   "source": [
    "# B"
   ]
  },
  {
   "cell_type": "code",
   "execution_count": 3,
   "id": "c804122f",
   "metadata": {},
   "outputs": [],
   "source": [
    "# Model Initialization\n",
    "conv_base = VGG19(weights='imagenet',\n",
    "                  include_top=False, \n",
    "                  input_shape=(150, 150, 3))"
   ]
  },
  {
   "cell_type": "code",
   "execution_count": 4,
   "id": "62650fc4",
   "metadata": {
    "scrolled": true
   },
   "outputs": [
    {
     "name": "stdout",
     "output_type": "stream",
     "text": [
      "Model: \"vgg19\"\n",
      "_________________________________________________________________\n",
      " Layer (type)                Output Shape              Param #   \n",
      "=================================================================\n",
      " input_1 (InputLayer)        [(None, 150, 150, 3)]     0         \n",
      "                                                                 \n",
      " block1_conv1 (Conv2D)       (None, 150, 150, 64)      1792      \n",
      "                                                                 \n",
      " block1_conv2 (Conv2D)       (None, 150, 150, 64)      36928     \n",
      "                                                                 \n",
      " block1_pool (MaxPooling2D)  (None, 75, 75, 64)        0         \n",
      "                                                                 \n",
      " block2_conv1 (Conv2D)       (None, 75, 75, 128)       73856     \n",
      "                                                                 \n",
      " block2_conv2 (Conv2D)       (None, 75, 75, 128)       147584    \n",
      "                                                                 \n",
      " block2_pool (MaxPooling2D)  (None, 37, 37, 128)       0         \n",
      "                                                                 \n",
      " block3_conv1 (Conv2D)       (None, 37, 37, 256)       295168    \n",
      "                                                                 \n",
      " block3_conv2 (Conv2D)       (None, 37, 37, 256)       590080    \n",
      "                                                                 \n",
      " block3_conv3 (Conv2D)       (None, 37, 37, 256)       590080    \n",
      "                                                                 \n",
      " block3_conv4 (Conv2D)       (None, 37, 37, 256)       590080    \n",
      "                                                                 \n",
      " block3_pool (MaxPooling2D)  (None, 18, 18, 256)       0         \n",
      "                                                                 \n",
      " block4_conv1 (Conv2D)       (None, 18, 18, 512)       1180160   \n",
      "                                                                 \n",
      " block4_conv2 (Conv2D)       (None, 18, 18, 512)       2359808   \n",
      "                                                                 \n",
      " block4_conv3 (Conv2D)       (None, 18, 18, 512)       2359808   \n",
      "                                                                 \n",
      " block4_conv4 (Conv2D)       (None, 18, 18, 512)       2359808   \n",
      "                                                                 \n",
      " block4_pool (MaxPooling2D)  (None, 9, 9, 512)         0         \n",
      "                                                                 \n",
      " block5_conv1 (Conv2D)       (None, 9, 9, 512)         2359808   \n",
      "                                                                 \n",
      " block5_conv2 (Conv2D)       (None, 9, 9, 512)         2359808   \n",
      "                                                                 \n",
      " block5_conv3 (Conv2D)       (None, 9, 9, 512)         2359808   \n",
      "                                                                 \n",
      " block5_conv4 (Conv2D)       (None, 9, 9, 512)         2359808   \n",
      "                                                                 \n",
      " block5_pool (MaxPooling2D)  (None, 4, 4, 512)         0         \n",
      "                                                                 \n",
      "=================================================================\n",
      "Total params: 20,024,384\n",
      "Trainable params: 20,024,384\n",
      "Non-trainable params: 0\n",
      "_________________________________________________________________\n"
     ]
    }
   ],
   "source": [
    "conv_base.summary()"
   ]
  },
  {
   "attachments": {},
   "cell_type": "markdown",
   "id": "842f086c",
   "metadata": {},
   "source": [
    "# C"
   ]
  },
  {
   "cell_type": "code",
   "execution_count": 5,
   "id": "d08455b8",
   "metadata": {},
   "outputs": [],
   "source": [
    "#def"
   ]
  },
  {
   "cell_type": "code",
   "execution_count": 6,
   "id": "98a4c894",
   "metadata": {},
   "outputs": [],
   "source": [
    "train_dir = \"./weather/train/\"\n",
    "test_dir = \"./weather/test/\"\n",
    "valid_dir = \"./weather/val/\"\n",
    "\n",
    "datagen = ImageDataGenerator(rescale=1./255)\n",
    "batch_size = 20\n",
    "\n",
    "def extract_features(directory, sample_count):\n",
    "    features = np.zeros(shape= (sample_count, 4, 4, 512))\n",
    "    features_count = len(next(os.walk(directory))[1])\n",
    "    labels = np.zeros(shape=(sample_count, features_count))\n",
    "    generator = datagen.flow_from_directory(directory,\n",
    "                                            target_size= (150, 150), \n",
    "                                            batch_size=batch_size, class_mode='categorical')\n",
    "    i = 0\n",
    "    for inputs_batch, labels_batch in generator:\n",
    "        features_batch = conv_base.predict(inputs_batch, verbose=0)\n",
    "        features[i * batch_size : (i + 1) * batch_size] = features_batch\n",
    "        labels[i * batch_size : (i + 1) * batch_size] = labels_batch\n",
    "        i += 1\n",
    "        if i * batch_size >= sample_count:\n",
    "            break\n",
    "    return features, labels"
   ]
  },
  {
   "cell_type": "code",
   "execution_count": 7,
   "id": "d51a2f7d",
   "metadata": {},
   "outputs": [
    {
     "name": "stdout",
     "output_type": "stream",
     "text": [
      "Found 5484 images belonging to 11 classes.\n",
      "Found 682 images belonging to 11 classes.\n",
      "Found 696 images belonging to 11 classes.\n"
     ]
    }
   ],
   "source": [
    "train_features, train_labels = extract_features(train_dir, 2000)\n",
    "validation_features, validation_labels = extract_features (valid_dir, 500)\n",
    "test_features, test_labels = extract_features(test_dir, 500)"
   ]
  },
  {
   "cell_type": "code",
   "execution_count": 8,
   "id": "126e4d94",
   "metadata": {},
   "outputs": [],
   "source": [
    "train_features = np.reshape(train_features, (2000, 4 * 4 * 512))\n",
    "validation_features = np.reshape(validation_features, (500, 4 * 4 * 512))\n",
    "test_features = np.reshape(test_features, (500, 4 * 4 * 512))"
   ]
  },
  {
   "cell_type": "code",
   "execution_count": 9,
   "id": "427c71f7",
   "metadata": {},
   "outputs": [],
   "source": [
    "model = models.Sequential()\n",
    "model.add(layers.Dense(256, activation='relu', input_dim=4*4*512))\n",
    "model.add(layers.Dropout(0.5))\n",
    "model.add(layers.Dense(11, activation='sigmoid'))\n",
    "\n",
    "model.compile(optimizer=optimizers.RMSprop(learning_rate=0.00002),\n",
    "              loss='categorical_crossentropy',\n",
    "              metrics=['accuracy'])"
   ]
  },
  {
   "cell_type": "code",
   "execution_count": 10,
   "id": "b16faffc",
   "metadata": {},
   "outputs": [
    {
     "name": "stdout",
     "output_type": "stream",
     "text": [
      "Epoch 1/30\n",
      "100/100 [==============================] - 4s 32ms/step - loss: 2.2737 - accuracy: 0.2200 - val_loss: 1.9128 - val_accuracy: 0.3940\n",
      "Epoch 2/30\n",
      "100/100 [==============================] - 2s 24ms/step - loss: 1.8409 - accuracy: 0.3805 - val_loss: 1.6569 - val_accuracy: 0.4920\n",
      "Epoch 3/30\n",
      "100/100 [==============================] - 3s 27ms/step - loss: 1.6137 - accuracy: 0.4490 - val_loss: 1.4831 - val_accuracy: 0.5560\n",
      "Epoch 4/30\n",
      "100/100 [==============================] - 2s 23ms/step - loss: 1.4515 - accuracy: 0.5170 - val_loss: 1.3641 - val_accuracy: 0.5840\n",
      "Epoch 5/30\n",
      "100/100 [==============================] - 3s 27ms/step - loss: 1.3301 - accuracy: 0.5530 - val_loss: 1.2748 - val_accuracy: 0.6180\n",
      "Epoch 6/30\n",
      "100/100 [==============================] - 2s 23ms/step - loss: 1.2428 - accuracy: 0.5870 - val_loss: 1.2082 - val_accuracy: 0.6380\n",
      "Epoch 7/30\n",
      "100/100 [==============================] - 3s 27ms/step - loss: 1.1678 - accuracy: 0.6130 - val_loss: 1.1532 - val_accuracy: 0.6480\n",
      "Epoch 8/30\n",
      "100/100 [==============================] - 2s 24ms/step - loss: 1.1051 - accuracy: 0.6345 - val_loss: 1.1090 - val_accuracy: 0.6560\n",
      "Epoch 9/30\n",
      "100/100 [==============================] - 3s 25ms/step - loss: 1.0396 - accuracy: 0.6575 - val_loss: 1.0731 - val_accuracy: 0.6560\n",
      "Epoch 10/30\n",
      "100/100 [==============================] - 2s 25ms/step - loss: 1.0161 - accuracy: 0.6545 - val_loss: 1.0497 - val_accuracy: 0.6580\n",
      "Epoch 11/30\n",
      "100/100 [==============================] - 2s 24ms/step - loss: 0.9501 - accuracy: 0.7010 - val_loss: 1.0307 - val_accuracy: 0.6860\n",
      "Epoch 12/30\n",
      "100/100 [==============================] - 2s 23ms/step - loss: 0.9173 - accuracy: 0.7070 - val_loss: 0.9992 - val_accuracy: 0.6920\n",
      "Epoch 13/30\n",
      "100/100 [==============================] - 3s 27ms/step - loss: 0.8972 - accuracy: 0.7045 - val_loss: 0.9784 - val_accuracy: 0.6940\n",
      "Epoch 14/30\n",
      "100/100 [==============================] - 2s 22ms/step - loss: 0.8531 - accuracy: 0.7270 - val_loss: 0.9515 - val_accuracy: 0.7040\n",
      "Epoch 15/30\n",
      "100/100 [==============================] - 3s 27ms/step - loss: 0.8244 - accuracy: 0.7425 - val_loss: 0.9357 - val_accuracy: 0.7060\n",
      "Epoch 16/30\n",
      "100/100 [==============================] - 2s 23ms/step - loss: 0.8160 - accuracy: 0.7365 - val_loss: 0.9177 - val_accuracy: 0.7060\n",
      "Epoch 17/30\n",
      "100/100 [==============================] - 3s 25ms/step - loss: 0.7826 - accuracy: 0.7490 - val_loss: 0.9102 - val_accuracy: 0.7020\n",
      "Epoch 18/30\n",
      "100/100 [==============================] - 2s 25ms/step - loss: 0.7490 - accuracy: 0.7590 - val_loss: 0.8963 - val_accuracy: 0.7120\n",
      "Epoch 19/30\n",
      "100/100 [==============================] - 2s 23ms/step - loss: 0.7259 - accuracy: 0.7715 - val_loss: 0.8909 - val_accuracy: 0.7120\n",
      "Epoch 20/30\n",
      "100/100 [==============================] - 3s 27ms/step - loss: 0.7294 - accuracy: 0.7625 - val_loss: 0.8764 - val_accuracy: 0.7000\n",
      "Epoch 21/30\n",
      "100/100 [==============================] - 2s 22ms/step - loss: 0.6938 - accuracy: 0.7825 - val_loss: 0.8661 - val_accuracy: 0.6980\n",
      "Epoch 22/30\n",
      "100/100 [==============================] - 3s 26ms/step - loss: 0.6757 - accuracy: 0.7865 - val_loss: 0.8592 - val_accuracy: 0.7180\n",
      "Epoch 23/30\n",
      "100/100 [==============================] - 2s 23ms/step - loss: 0.6677 - accuracy: 0.7915 - val_loss: 0.8530 - val_accuracy: 0.7080\n",
      "Epoch 24/30\n",
      "100/100 [==============================] - 3s 26ms/step - loss: 0.6490 - accuracy: 0.7895 - val_loss: 0.8495 - val_accuracy: 0.7260\n",
      "Epoch 25/30\n",
      "100/100 [==============================] - 2s 24ms/step - loss: 0.6289 - accuracy: 0.8065 - val_loss: 0.8317 - val_accuracy: 0.7280\n",
      "Epoch 26/30\n",
      "100/100 [==============================] - 2s 24ms/step - loss: 0.6263 - accuracy: 0.8035 - val_loss: 0.8217 - val_accuracy: 0.7200\n",
      "Epoch 27/30\n",
      "100/100 [==============================] - 3s 27ms/step - loss: 0.6088 - accuracy: 0.8050 - val_loss: 0.8213 - val_accuracy: 0.7300\n",
      "Epoch 28/30\n",
      "100/100 [==============================] - 2s 22ms/step - loss: 0.5846 - accuracy: 0.8135 - val_loss: 0.8174 - val_accuracy: 0.7440\n",
      "Epoch 29/30\n",
      "100/100 [==============================] - 3s 26ms/step - loss: 0.5584 - accuracy: 0.8260 - val_loss: 0.8074 - val_accuracy: 0.7440\n",
      "Epoch 30/30\n",
      "100/100 [==============================] - 2s 24ms/step - loss: 0.5679 - accuracy: 0.8215 - val_loss: 0.8039 - val_accuracy: 0.7300\n"
     ]
    }
   ],
   "source": [
    "history = model.fit(train_features, train_labels,\n",
    "                    epochs = 30, batch_size=batch_size,\n",
    "                    validation_data = (validation_features, validation_labels))"
   ]
  },
  {
   "cell_type": "code",
   "execution_count": 11,
   "id": "55584a2f",
   "metadata": {},
   "outputs": [
    {
     "name": "stdout",
     "output_type": "stream",
     "text": [
      "16/16 [==============================] - 0s 5ms/step - loss: 0.7369 - accuracy: 0.7540\n"
     ]
    },
    {
     "data": {
      "text/plain": [
       "[0.736912190914154, 0.7540000081062317]"
      ]
     },
     "execution_count": 11,
     "metadata": {},
     "output_type": "execute_result"
    }
   ],
   "source": [
    "model.evaluate(test_features, test_labels)"
   ]
  },
  {
   "cell_type": "code",
   "execution_count": 12,
   "id": "f095defc",
   "metadata": {},
   "outputs": [
    {
     "data": {
      "image/png": "[encoded data removed]",
      "text/plain": [
       "<Figure size 432x288 with 1 Axes>"
      ]
     },
     "metadata": {
      "needs_background": "light"
     },
     "output_type": "display_data"
    }
   ],
   "source": [
    "history_dic = history.history\n",
    "epochs = 30\n",
    "plt.plot(np.arange(1, epochs + 1), history_dic['loss'], 'bo', label = \"Training loss\")\n",
    "plt.plot(np.arange(1, epochs + 1), history_dic['val_loss'], 'b', label = \"Validation loss\")\n",
    "plt.xlabel(\"iteration\")\n",
    "plt.ylabel(\"Loss\")\n",
    "plt.legend()\n",
    "plt.show()"
   ]
  },
  {
   "cell_type": "code",
   "execution_count": 13,
   "id": "2691922a",
   "metadata": {},
   "outputs": [
    {
     "data": {
      "image/png": "[encoded data removed]",
      "text/plain": [
       "<Figure size 432x288 with 1 Axes>"
      ]
     },
     "metadata": {
      "needs_background": "light"
     },
     "output_type": "display_data"
    }
   ],
   "source": [
    "plt.plot(np.arange(1, epochs + 1), history_dic['accuracy'], 'bo', label = \"acc\")\n",
    "plt.plot(np.arange(1, epochs + 1), history_dic['val_accuracy'], 'b', label = \"accuracy losses\")\n",
    "plt.title(\"Train vs Validation\")\n",
    "plt.xlabel(\"Epochs\")\n",
    "plt.ylabel(\"Accuracy\")\n",
    "plt.legend()\n",
    "plt.show()"
   ]
  },
  {
   "attachments": {},
   "cell_type": "markdown",
   "id": "3bb8ed2f",
   "metadata": {},
   "source": [
    "# G"
   ]
  },
  {
   "cell_type": "code",
   "execution_count": 14,
   "id": "7513e327",
   "metadata": {},
   "outputs": [],
   "source": [
    "datagen = ImageDataGenerator(rescale=1./255,\n",
    "                             width_shift_range= 0.2,\n",
    "                             height_shift_range=20,\n",
    "                             rotation_range= 40,\n",
    "                             horizontal_flip=True,\n",
    "                             zoom_range=0.2,\n",
    "                             fill_mode='nearest')"
   ]
  },
  {
   "cell_type": "code",
   "execution_count": 15,
   "id": "29480a30",
   "metadata": {},
   "outputs": [],
   "source": [
    "batch_size = 20\n",
    "\n",
    "def extract_features_augmentation(directory, sample_count):\n",
    "    features = np.zeros(shape= (sample_count, 4, 4, 512))\n",
    "    features_count = len(next(os.walk(directory))[1])\n",
    "    labels = np.zeros(shape=(sample_count, features_count))\n",
    "    generator = datagen.flow_from_directory(directory,\n",
    "                                            target_size= (150, 150), \n",
    "                                            batch_size=batch_size, class_mode='categorical')\n",
    "    i = 0\n",
    "    for inputs_batch, labels_batch in generator:\n",
    "        features_batch = conv_base.predict(inputs_batch, verbose=0)\n",
    "        features[i * batch_size : (i + 1) * batch_size] = features_batch\n",
    "        labels[i * batch_size : (i + 1) * batch_size] = labels_batch\n",
    "        i += 1\n",
    "        if i * batch_size >= sample_count:\n",
    "            break\n",
    "    return features, labels"
   ]
  },
  {
   "cell_type": "code",
   "execution_count": 16,
   "id": "3a2471c9",
   "metadata": {},
   "outputs": [
    {
     "name": "stdout",
     "output_type": "stream",
     "text": [
      "Found 5484 images belonging to 11 classes.\n",
      "Found 682 images belonging to 11 classes.\n",
      "Found 696 images belonging to 11 classes.\n"
     ]
    }
   ],
   "source": [
    "train_features, train_labels = extract_features_augmentation(train_dir, 2000)\n",
    "validation_features, validation_labels = extract_features_augmentation (valid_dir, 500)\n",
    "test_features, test_labels = extract_features_augmentation(test_dir, 500)"
   ]
  },
  {
   "cell_type": "code",
   "execution_count": 17,
   "id": "0886c225",
   "metadata": {},
   "outputs": [],
   "source": [
    "train_features = np.reshape(train_features, (2000, 4 * 4 * 512))\n",
    "validation_features = np.reshape(validation_features, (500, 4 * 4 * 512))\n",
    "test_features = np.reshape(test_features, (500, 4 * 4 * 512))"
   ]
  },
  {
   "cell_type": "code",
   "execution_count": 18,
   "id": "48346a92",
   "metadata": {},
   "outputs": [],
   "source": [
    "model = models.Sequential()\n",
    "model.add(layers.Dense(256, activation='relu', input_dim=4*4*512))\n",
    "model.add(layers.BatchNormalization())\n",
    "model.add(layers.Dropout(0.5))\n",
    "model.add(layers.Dense(11, activation='sigmoid'))\n",
    "\n",
    "model.compile(optimizer=optimizers.RMSprop(learning_rate=0.00002),\n",
    "              loss='categorical_crossentropy',\n",
    "              metrics=['accuracy'])"
   ]
  },
  {
   "cell_type": "code",
   "execution_count": 19,
   "id": "56d6fa59",
   "metadata": {},
   "outputs": [
    {
     "name": "stdout",
     "output_type": "stream",
     "text": [
      "Model: \"sequential_1\"\n",
      "_________________________________________________________________\n",
      " Layer (type)                Output Shape              Param #   \n",
      "=================================================================\n",
      " dense_2 (Dense)             (None, 256)               2097408   \n",
      "                                                                 \n",
      " batch_normalization (BatchN  (None, 256)              1024      \n",
      " ormalization)                                                   \n",
      "                                                                 \n",
      " dropout_1 (Dropout)         (None, 256)               0         \n",
      "                                                                 \n",
      " dense_3 (Dense)             (None, 11)                2827      \n",
      "                                                                 \n",
      "=================================================================\n",
      "Total params: 2,101,259\n",
      "Trainable params: 2,100,747\n",
      "Non-trainable params: 512\n",
      "_________________________________________________________________\n"
     ]
    }
   ],
   "source": [
    "model.summary()"
   ]
  },
  {
   "cell_type": "code",
   "execution_count": 20,
   "id": "506cc882",
   "metadata": {},
   "outputs": [
    {
     "name": "stdout",
     "output_type": "stream",
     "text": [
      "Epoch 1/30\n"
     ]
    },
    {
     "name": "stdout",
     "output_type": "stream",
     "text": [
      "100/100 [==============================] - 5s 29ms/step - loss: 2.5843 - accuracy: 0.2220 - val_loss: 2.0155 - val_accuracy: 0.2680\n",
      "Epoch 2/30\n",
      "100/100 [==============================] - 3s 28ms/step - loss: 1.9042 - accuracy: 0.3650 - val_loss: 1.6524 - val_accuracy: 0.4240\n",
      "Epoch 3/30\n",
      "100/100 [==============================] - 2s 24ms/step - loss: 1.6267 - accuracy: 0.4470 - val_loss: 1.4500 - val_accuracy: 0.5040\n",
      "Epoch 4/30\n",
      "100/100 [==============================] - 3s 28ms/step - loss: 1.4354 - accuracy: 0.5110 - val_loss: 1.3358 - val_accuracy: 0.5420\n",
      "Epoch 5/30\n",
      "100/100 [==============================] - 3s 26ms/step - loss: 1.3117 - accuracy: 0.5475 - val_loss: 1.2367 - val_accuracy: 0.5800\n",
      "Epoch 6/30\n",
      "100/100 [==============================] - 2s 24ms/step - loss: 1.2023 - accuracy: 0.5935 - val_loss: 1.1842 - val_accuracy: 0.6000\n",
      "Epoch 7/30\n",
      "100/100 [==============================] - 3s 25ms/step - loss: 1.1374 - accuracy: 0.6155 - val_loss: 1.1677 - val_accuracy: 0.6180\n",
      "Epoch 8/30\n",
      "100/100 [==============================] - 3s 27ms/step - loss: 1.0291 - accuracy: 0.6420 - val_loss: 1.1868 - val_accuracy: 0.6040\n",
      "Epoch 9/30\n",
      "100/100 [==============================] - 2s 25ms/step - loss: 0.9723 - accuracy: 0.6740 - val_loss: 1.1465 - val_accuracy: 0.6180\n",
      "Epoch 10/30\n",
      "100/100 [==============================] - 3s 28ms/step - loss: 0.9012 - accuracy: 0.7065 - val_loss: 1.1370 - val_accuracy: 0.6360\n",
      "Epoch 11/30\n",
      "100/100 [==============================] - 2s 23ms/step - loss: 0.8817 - accuracy: 0.6985 - val_loss: 1.1267 - val_accuracy: 0.6340\n",
      "Epoch 12/30\n",
      "100/100 [==============================] - 3s 28ms/step - loss: 0.8386 - accuracy: 0.7200 - val_loss: 1.0943 - val_accuracy: 0.6480\n",
      "Epoch 13/30\n",
      "100/100 [==============================] - 2s 23ms/step - loss: 0.7584 - accuracy: 0.7490 - val_loss: 1.1096 - val_accuracy: 0.6400\n",
      "Epoch 14/30\n",
      "100/100 [==============================] - 3s 27ms/step - loss: 0.7507 - accuracy: 0.7505 - val_loss: 1.0730 - val_accuracy: 0.6360\n",
      "Epoch 15/30\n",
      "100/100 [==============================] - 2s 25ms/step - loss: 0.6963 - accuracy: 0.7670 - val_loss: 1.0705 - val_accuracy: 0.6560\n",
      "Epoch 16/30\n",
      "100/100 [==============================] - 3s 26ms/step - loss: 0.6616 - accuracy: 0.7815 - val_loss: 1.0647 - val_accuracy: 0.6620\n",
      "Epoch 17/30\n",
      "100/100 [==============================] - 3s 26ms/step - loss: 0.6353 - accuracy: 0.7855 - val_loss: 1.0363 - val_accuracy: 0.6720\n",
      "Epoch 18/30\n",
      "100/100 [==============================] - 2s 24ms/step - loss: 0.5847 - accuracy: 0.8145 - val_loss: 1.0438 - val_accuracy: 0.6600\n",
      "Epoch 19/30\n",
      "100/100 [==============================] - 3s 28ms/step - loss: 0.5730 - accuracy: 0.8170 - val_loss: 1.0324 - val_accuracy: 0.6580\n",
      "Epoch 20/30\n",
      "100/100 [==============================] - 2s 22ms/step - loss: 0.5492 - accuracy: 0.8230 - val_loss: 1.0409 - val_accuracy: 0.6680\n",
      "Epoch 21/30\n",
      "100/100 [==============================] - 3s 29ms/step - loss: 0.5297 - accuracy: 0.8375 - val_loss: 1.0558 - val_accuracy: 0.6440\n",
      "Epoch 22/30\n",
      "100/100 [==============================] - 2s 23ms/step - loss: 0.4826 - accuracy: 0.8555 - val_loss: 1.0393 - val_accuracy: 0.6500\n",
      "Epoch 23/30\n",
      "100/100 [==============================] - 3s 31ms/step - loss: 0.4812 - accuracy: 0.8535 - val_loss: 1.0250 - val_accuracy: 0.6720\n",
      "Epoch 24/30\n",
      "100/100 [==============================] - 2s 24ms/step - loss: 0.4666 - accuracy: 0.8575 - val_loss: 1.0220 - val_accuracy: 0.6600\n",
      "Epoch 25/30\n",
      "100/100 [==============================] - 3s 27ms/step - loss: 0.4581 - accuracy: 0.8630 - val_loss: 1.0259 - val_accuracy: 0.6560\n",
      "Epoch 26/30\n",
      "100/100 [==============================] - 3s 25ms/step - loss: 0.4048 - accuracy: 0.8825 - val_loss: 1.0144 - val_accuracy: 0.6820\n",
      "Epoch 27/30\n",
      "100/100 [==============================] - 3s 25ms/step - loss: 0.4087 - accuracy: 0.8815 - val_loss: 1.0449 - val_accuracy: 0.6600\n",
      "Epoch 28/30\n",
      "100/100 [==============================] - 3s 27ms/step - loss: 0.3952 - accuracy: 0.8815 - val_loss: 1.0347 - val_accuracy: 0.6760\n",
      "Epoch 29/30\n",
      "100/100 [==============================] - 2s 24ms/step - loss: 0.3733 - accuracy: 0.8985 - val_loss: 1.0160 - val_accuracy: 0.6680\n",
      "Epoch 30/30\n",
      "100/100 [==============================] - 3s 28ms/step - loss: 0.3572 - accuracy: 0.8955 - val_loss: 1.0281 - val_accuracy: 0.6720\n"
     ]
    }
   ],
   "source": [
    "history_augmentation = model.fit(train_features, train_labels,\n",
    "                    epochs = 30, batch_size=batch_size,\n",
    "                    validation_data = (validation_features, validation_labels))"
   ]
  },
  {
   "cell_type": "code",
   "execution_count": 21,
   "id": "e66b3ecf",
   "metadata": {},
   "outputs": [
    {
     "name": "stdout",
     "output_type": "stream",
     "text": [
      "16/16 [==============================] - 0s 4ms/step - loss: 0.9745 - accuracy: 0.6820\n"
     ]
    },
    {
     "data": {
      "text/plain": [
       "[0.9745320081710815, 0.6819999814033508]"
      ]
     },
     "execution_count": 21,
     "metadata": {},
     "output_type": "execute_result"
    }
   ],
   "source": [
    "model.evaluate(test_features, test_labels)"
   ]
  },
  {
   "cell_type": "code",
   "execution_count": 22,
   "id": "36276acb",
   "metadata": {},
   "outputs": [
    {
     "data": {
      "image/png": "[encoded data removed]",
      "text/plain": [
       "<Figure size 432x288 with 1 Axes>"
      ]
     },
     "metadata": {
      "needs_background": "light"
     },
     "output_type": "display_data"
    }
   ],
   "source": [
    "history_dic = history_augmentation.history\n",
    "epochs = 30\n",
    "plt.plot(np.arange(1, epochs + 1), history_dic['loss'], 'bo', label = \"Training loss\")\n",
    "plt.plot(np.arange(1, epochs + 1), history_dic['val_loss'], 'b', label = \"Validation loss\")\n",
    "plt.xlabel(\"iteration\")\n",
    "plt.ylabel(\"Loss\")\n",
    "plt.legend()\n",
    "plt.show()"
   ]
  },
  {
   "cell_type": "code",
   "execution_count": 23,
   "id": "c6636ede",
   "metadata": {},
   "outputs": [
    {
     "data": {
      "image/png": "[encoded data removed]",
      "text/plain": [
       "<Figure size 432x288 with 1 Axes>"
      ]
     },
     "metadata": {
      "needs_background": "light"
     },
     "output_type": "display_data"
    }
   ],
   "source": [
    "plt.plot(np.arange(1, epochs + 1), history_dic['accuracy'], 'bo', label = \"acc\")\n",
    "plt.plot(np.arange(1, epochs + 1), history_dic['val_accuracy'], 'b', label = \"validation accuracy \")\n",
    "plt.title(\"Train vs Validation\")\n",
    "plt.xlabel(\"Epochs\")\n",
    "plt.ylabel(\"Accuracy\")\n",
    "plt.legend()\n",
    "plt.show()"
   ]
  },
  {
   "attachments": {},
   "cell_type": "markdown",
   "id": "64c3705f",
   "metadata": {},
   "source": [
    "# 2 Weather classification using fine-tuning"
   ]
  },
  {
   "cell_type": "code",
   "execution_count": 24,
   "id": "3604b095",
   "metadata": {},
   "outputs": [
    {
     "name": "stdout",
     "output_type": "stream",
     "text": [
      "Model: \"vgg19\"\n",
      "_________________________________________________________________\n",
      " Layer (type)                Output Shape              Param #   \n",
      "=================================================================\n",
      " input_1 (InputLayer)        [(None, 150, 150, 3)]     0         \n",
      "                                                                 \n",
      " block1_conv1 (Conv2D)       (None, 150, 150, 64)      1792      \n",
      "                                                                 \n",
      " block1_conv2 (Conv2D)       (None, 150, 150, 64)      36928     \n",
      "                                                                 \n",
      " block1_pool (MaxPooling2D)  (None, 75, 75, 64)        0         \n",
      "                                                                 \n",
      " block2_conv1 (Conv2D)       (None, 75, 75, 128)       73856     \n",
      "                                                                 \n",
      " block2_conv2 (Conv2D)       (None, 75, 75, 128)       147584    \n",
      "                                                                 \n",
      " block2_pool (MaxPooling2D)  (None, 37, 37, 128)       0         \n",
      "                                                                 \n",
      " block3_conv1 (Conv2D)       (None, 37, 37, 256)       295168    \n",
      "                                                                 \n",
      " block3_conv2 (Conv2D)       (None, 37, 37, 256)       590080    \n",
      "                                                                 \n",
      " block3_conv3 (Conv2D)       (None, 37, 37, 256)       590080    \n",
      "                                                                 \n",
      " block3_conv4 (Conv2D)       (None, 37, 37, 256)       590080    \n",
      "                                                                 \n",
      " block3_pool (MaxPooling2D)  (None, 18, 18, 256)       0         \n",
      "                                                                 \n",
      " block4_conv1 (Conv2D)       (None, 18, 18, 512)       1180160   \n",
      "                                                                 \n",
      " block4_conv2 (Conv2D)       (None, 18, 18, 512)       2359808   \n",
      "                                                                 \n",
      " block4_conv3 (Conv2D)       (None, 18, 18, 512)       2359808   \n",
      "                                                                 \n",
      " block4_conv4 (Conv2D)       (None, 18, 18, 512)       2359808   \n",
      "                                                                 \n",
      " block4_pool (MaxPooling2D)  (None, 9, 9, 512)         0         \n",
      "                                                                 \n",
      " block5_conv1 (Conv2D)       (None, 9, 9, 512)         2359808   \n",
      "                                                                 \n",
      " block5_conv2 (Conv2D)       (None, 9, 9, 512)         2359808   \n",
      "                                                                 \n",
      " block5_conv3 (Conv2D)       (None, 9, 9, 512)         2359808   \n",
      "                                                                 \n",
      " block5_conv4 (Conv2D)       (None, 9, 9, 512)         2359808   \n",
      "                                                                 \n",
      " block5_pool (MaxPooling2D)  (None, 4, 4, 512)         0         \n",
      "                                                                 \n",
      "=================================================================\n",
      "Total params: 20,024,384\n",
      "Trainable params: 20,024,384\n",
      "Non-trainable params: 0\n",
      "_________________________________________________________________\n"
     ]
    }
   ],
   "source": [
    "conv_base.summary()"
   ]
  },
  {
   "cell_type": "code",
   "execution_count": 25,
   "id": "75fa4736",
   "metadata": {},
   "outputs": [],
   "source": [
    "set_trainable =  False\n",
    "for layer in conv_base.layers:\n",
    "    if layer.name == 'block5_conv1':\n",
    "        set_trainable = True\n",
    "    if set_trainable:\n",
    "        layer.trainable = True\n",
    "    else:\n",
    "        layer.trainable = False"
   ]
  },
  {
   "cell_type": "code",
   "execution_count": 26,
   "id": "19ed9e68",
   "metadata": {},
   "outputs": [
    {
     "name": "stdout",
     "output_type": "stream",
     "text": [
      "Found 5484 images belonging to 11 classes.\n",
      "Found 696 images belonging to 11 classes.\n",
      "Found 682 images belonging to 11 classes.\n"
     ]
    }
   ],
   "source": [
    "batch_size = 20\n",
    "train_datagen = ImageDataGenerator (rescale=1./255)\n",
    "test_datagen = ImageDataGenerator (rescale=1./255)\n",
    "validation_datagen = ImageDataGenerator (rescale=1./255)\n",
    "\n",
    "train_generator = train_datagen.flow_from_directory(\n",
    "    \"./weather/train/\",\n",
    "    target_size= (150, 150),\n",
    "    color_mode='rgb',\n",
    "    batch_size=batch_size, class_mode='categorical')\n",
    "\n",
    "test_generator =test_datagen.flow_from_directory(\n",
    "    \"./weather/test/\",\n",
    "    target_size= (150, 150),\n",
    "    color_mode='rgb',\n",
    "    batch_size=batch_size, class_mode='categorical')\n",
    "\n",
    "validation_generator =validation_datagen.flow_from_directory(\n",
    "     \"./weather/val/\",\n",
    "    target_size= (150, 150),\n",
    "    color_mode='rgb',\n",
    "    batch_size=batch_size, class_mode='categorical')\n"
   ]
  },
  {
   "cell_type": "code",
   "execution_count": 27,
   "id": "9f8de4b2",
   "metadata": {},
   "outputs": [],
   "source": [
    "model = models.Sequential()\n",
    "model.add(conv_base)\n",
    "model.add(layers.Flatten())\n",
    "model.add(layers.Dense(256, activation='relu'))\n",
    "model.add(layers.BatchNormalization())\n",
    "model.add(layers.Dropout(0.5))\n",
    "model.add(layers.Dense(11, activation='sigmoid'))\n",
    "\n",
    "model.compile(optimizer=optimizers.RMSprop(learning_rate=0.00002),\n",
    "              loss='categorical_crossentropy',\n",
    "              metrics=['accuracy'])"
   ]
  },
  {
   "cell_type": "code",
   "execution_count": 28,
   "id": "eb1230e4",
   "metadata": {},
   "outputs": [
    {
     "name": "stdout",
     "output_type": "stream",
     "text": [
      "Model: \"sequential_2\"\n",
      "_________________________________________________________________\n",
      " Layer (type)                Output Shape              Param #   \n",
      "=================================================================\n",
      " vgg19 (Functional)          (None, 4, 4, 512)         20024384  \n",
      "                                                                 \n",
      " flatten (Flatten)           (None, 8192)              0         \n",
      "                                                                 \n",
      " dense_4 (Dense)             (None, 256)               2097408   \n",
      "                                                                 \n",
      " batch_normalization_1 (Batc  (None, 256)              1024      \n",
      " hNormalization)                                                 \n",
      "                                                                 \n",
      " dropout_2 (Dropout)         (None, 256)               0         \n",
      "                                                                 \n",
      " dense_5 (Dense)             (None, 11)                2827      \n",
      "                                                                 \n",
      "=================================================================\n",
      "Total params: 22,125,643\n",
      "Trainable params: 11,539,979\n",
      "Non-trainable params: 10,585,664\n",
      "_________________________________________________________________\n"
     ]
    }
   ],
   "source": [
    "model.summary()"
   ]
  },
  {
   "cell_type": "code",
   "execution_count": 29,
   "id": "126acc6a",
   "metadata": {},
   "outputs": [
    {
     "name": "stdout",
     "output_type": "stream",
     "text": [
      "Epoch 1/30\n",
      "275/275 [==============================] - 1084s 4s/step - loss: 1.4817 - accuracy: 0.5343 - val_loss: 0.8299 - val_accuracy: 0.7346\n",
      "Epoch 2/30\n",
      "275/275 [==============================] - 1055s 4s/step - loss: 0.7606 - accuracy: 0.7502 - val_loss: 0.7538 - val_accuracy: 0.7390\n",
      "Epoch 3/30\n",
      "275/275 [==============================] - 1024s 4s/step - loss: 0.5425 - accuracy: 0.8178 - val_loss: 0.7584 - val_accuracy: 0.7610\n",
      "Epoch 4/30\n",
      "275/275 [==============================] - 1073s 4s/step - loss: 0.4001 - accuracy: 0.8702 - val_loss: 0.5391 - val_accuracy: 0.8299\n",
      "Epoch 5/30\n",
      "275/275 [==============================] - 1065s 4s/step - loss: 0.2987 - accuracy: 0.9044 - val_loss: 0.5281 - val_accuracy: 0.8167\n",
      "Epoch 6/30\n",
      "275/275 [==============================] - 987s 4s/step - loss: 0.2144 - accuracy: 0.9333 - val_loss: 0.4955 - val_accuracy: 0.8475\n",
      "Epoch 7/30\n",
      "275/275 [==============================] - 917s 3s/step - loss: 0.1610 - accuracy: 0.9526 - val_loss: 0.6257 - val_accuracy: 0.8240\n",
      "Epoch 8/30\n",
      "275/275 [==============================] - 902s 3s/step - loss: 0.1243 - accuracy: 0.9643 - val_loss: 0.5324 - val_accuracy: 0.8460\n",
      "Epoch 9/30\n",
      "275/275 [==============================] - 905s 3s/step - loss: 0.0958 - accuracy: 0.9759 - val_loss: 0.5404 - val_accuracy: 0.8534\n",
      "Epoch 10/30\n",
      "275/275 [==============================] - 903s 3s/step - loss: 0.0720 - accuracy: 0.9821 - val_loss: 0.5686 - val_accuracy: 0.8446\n",
      "Epoch 11/30\n",
      "275/275 [==============================] - 912s 3s/step - loss: 0.0609 - accuracy: 0.9858 - val_loss: 0.5998 - val_accuracy: 0.8314\n",
      "Epoch 12/30\n",
      "275/275 [==============================] - 904s 3s/step - loss: 0.0526 - accuracy: 0.9874 - val_loss: 0.5990 - val_accuracy: 0.8578\n",
      "Epoch 13/30\n",
      "275/275 [==============================] - 904s 3s/step - loss: 0.0397 - accuracy: 0.9912 - val_loss: 0.5309 - val_accuracy: 0.8563\n",
      "Epoch 14/30\n",
      "275/275 [==============================] - 904s 3s/step - loss: 0.0384 - accuracy: 0.9907 - val_loss: 0.6083 - val_accuracy: 0.8446\n",
      "Epoch 15/30\n",
      "275/275 [==============================] - 907s 3s/step - loss: 0.0319 - accuracy: 0.9929 - val_loss: 0.6332 - val_accuracy: 0.8343\n",
      "Epoch 16/30\n",
      "275/275 [==============================] - 919s 3s/step - loss: 0.0269 - accuracy: 0.9911 - val_loss: 0.6430 - val_accuracy: 0.8402\n",
      "Epoch 17/30\n",
      "275/275 [==============================] - 962s 3s/step - loss: 0.0214 - accuracy: 0.9954 - val_loss: 0.6824 - val_accuracy: 0.8475\n",
      "Epoch 18/30\n",
      "275/275 [==============================] - 954s 3s/step - loss: 0.0250 - accuracy: 0.9934 - val_loss: 0.5874 - val_accuracy: 0.8387\n",
      "Epoch 19/30\n",
      "275/275 [==============================] - 946s 3s/step - loss: 0.0163 - accuracy: 0.9960 - val_loss: 0.6070 - val_accuracy: 0.8607\n",
      "Epoch 20/30\n",
      "275/275 [==============================] - 945s 3s/step - loss: 0.0141 - accuracy: 0.9973 - val_loss: 0.6456 - val_accuracy: 0.8431\n",
      "Epoch 21/30\n",
      "275/275 [==============================] - 951s 3s/step - loss: 0.0148 - accuracy: 0.9967 - val_loss: 0.5998 - val_accuracy: 0.8534\n",
      "Epoch 22/30\n",
      "275/275 [==============================] - 932s 3s/step - loss: 0.0119 - accuracy: 0.9976 - val_loss: 0.6973 - val_accuracy: 0.8402\n",
      "Epoch 23/30\n",
      "275/275 [==============================] - 894s 3s/step - loss: 0.0124 - accuracy: 0.9964 - val_loss: 0.6160 - val_accuracy: 0.8578\n",
      "Epoch 24/30\n",
      "275/275 [==============================] - 920s 3s/step - loss: 0.0123 - accuracy: 0.9978 - val_loss: 0.6046 - val_accuracy: 0.8592\n",
      "Epoch 25/30\n",
      "275/275 [==============================] - 941s 3s/step - loss: 0.0092 - accuracy: 0.9980 - val_loss: 0.6958 - val_accuracy: 0.8519\n",
      "Epoch 26/30\n",
      "275/275 [==============================] - 972s 4s/step - loss: 0.0077 - accuracy: 0.9984 - val_loss: 0.6650 - val_accuracy: 0.8636\n",
      "Epoch 27/30\n",
      "275/275 [==============================] - 985s 4s/step - loss: 0.0086 - accuracy: 0.9985 - val_loss: 0.6090 - val_accuracy: 0.8666\n",
      "Epoch 28/30\n",
      "275/275 [==============================] - 957s 3s/step - loss: 0.0082 - accuracy: 0.9980 - val_loss: 0.6323 - val_accuracy: 0.8768\n",
      "Epoch 29/30\n",
      "275/275 [==============================] - 955s 3s/step - loss: 0.0067 - accuracy: 0.9985 - val_loss: 0.6753 - val_accuracy: 0.8519\n",
      "Epoch 30/30\n",
      "275/275 [==============================] - 961s 3s/step - loss: 0.0081 - accuracy: 0.9982 - val_loss: 0.6759 - val_accuracy: 0.8490\n"
     ]
    }
   ],
   "source": [
    "history = model.fit(train_generator, epochs = 30, batch_size=20,validation_data =validation_generator)"
   ]
  },
  {
   "cell_type": "code",
   "execution_count": 30,
   "id": "d6a113f6",
   "metadata": {},
   "outputs": [
    {
     "data": {
      "image/png": "[encoded data removed]",
      "text/plain": [
       "<Figure size 432x288 with 1 Axes>"
      ]
     },
     "metadata": {
      "needs_background": "light"
     },
     "output_type": "display_data"
    }
   ],
   "source": [
    "history_dic = history.history\n",
    "epochs = 30\n",
    "plt.plot(np.arange(1, epochs + 1), history_dic['loss'], 'bo', label = \"Training loss\")\n",
    "plt.plot(np.arange(1, epochs + 1), history_dic['val_loss'], 'b', label = \"Validation loss\")\n",
    "plt.xlabel(\"iteration\")\n",
    "plt.ylabel(\"Loss\")\n",
    "plt.legend()\n",
    "plt.show()"
   ]
  },
  {
   "cell_type": "code",
   "execution_count": 31,
   "id": "1dc794d1",
   "metadata": {},
   "outputs": [
    {
     "data": {
      "image/png": "[encoded data removed]",
      "text/plain": [
       "<Figure size 432x288 with 1 Axes>"
      ]
     },
     "metadata": {
      "needs_background": "light"
     },
     "output_type": "display_data"
    }
   ],
   "source": [
    "plt.plot(np.arange(1, epochs + 1), history_dic['accuracy'], 'bo', label = \"loss\")\n",
    "plt.plot(np.arange(1, epochs + 1), history_dic['val_accuracy'], 'b', label = \"accuracy losses\")\n",
    "plt.title(\"Train vs Validation\")\n",
    "plt.xlabel(\"Epochs\")\n",
    "plt.ylabel(\"Accuracy\")\n",
    "plt.legend()\n",
    "plt.show()"
   ]
  }
 ],
 "metadata": {
  "kernelspec": {
   "display_name": "Python 3 (ipykernel)",
   "language": "python",
   "name": "python3"
  },
  "language_info": {
   "codemirror_mode": {
    "name": "ipython",
    "version": 3
   },
   "file_extension": ".py",
   "mimetype": "text/x-python",
   "name": "python",
   "nbconvert_exporter": "python",
   "pygments_lexer": "ipython3",
   "version": "3.9.12"
  }
 },
 "nbformat": 4,
 "nbformat_minor": 5
}
